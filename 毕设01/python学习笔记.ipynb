{
 "cells": [
  {
   "cell_type": "markdown",
   "metadata": {},
   "source": [
    "# 基础语法：\n",
    "          顺序性思维代码如何表达\n",
    "          分支判断思维代码如何表达 if语句\n",
    "          循环思维方式代码如何表达 while循环\n",
    "          函数封装\n",
    "          变量"
   ]
  },
  {
   "cell_type": "markdown",
   "metadata": {
    "collapsed": true
   },
   "source": [
    "# 注释： \n",
    "\n",
    "    方式一：#单行注释     \n",
    "    方式二：\"\"\" \"\"\"多行注释\n",
    "       \n",
    "    ctrl+/\n"
   ]
  },
  {
   "cell_type": "markdown",
   "metadata": {},
   "source": [
    "# 变量：临时存储数据\n",
    "\n",
    "# 变量的定义：变量名 = 值\n",
    "\n",
    "a = 10  # 创建一个新的变量，并且赋值-----定义变量\n",
    "\n",
    "a = 100  # 重新赋值\n",
    "\n",
    "这里“=”为赋值运算符\n",
    "\n",
    "变量命名\n",
    "\n",
    "    必须由数字字母下划线组成，且数字不能开头\n",
    "    区分大小写\n",
    "    变量名一般由小写加下划线组成\n",
    "    不能和关键字或是已有名字冲突\n",
    "\n",
    "    变量名要取得有意义，两个单词则由下划线连接，提升代码可读性\n",
    "\n",
    "\n",
    "变量类型：\n",
    "\n",
    "    数字类型（number）:int float\n",
    "    布尔类型（bool）\n",
    "    字符串类型（str）\n",
    "    \n",
    "python中定义变量是不需要指定类型，python会根据赋的值来推导变量的类型，我们可以使用type()函数来查看变量的类型\n"
   ]
  },
  {
   "cell_type": "markdown",
   "metadata": {},
   "source": [
    "# 不同类型之间的运算规则\n",
    "\n",
    "    一般不会将数字类型和布尔类型数据进行运算\n",
    "     也不会将字符串类型和布尔类型今夕运算\n",
    " \n",
    " 算数运算符：+ - * /（除） //（取整数） %（取余数）**（幂）\n",
    " \n",
    " 赋值运算符：= += -= *= /= //= **= %=\n",
    " \n",
    "注意：\n",
    "\n",
    "    数字与数字：所有运算\n",
    "    数字和字符串：只能进行乘法运算(重复输出字符串，数字为重复次数)\n",
    "    字符串和字符串：可以进行加法运算（字符串拼接）\n",
    " \n"
   ]
  },
  {
   "cell_type": "code",
   "execution_count": 34,
   "metadata": {},
   "outputs": [
    {
     "name": "stdout",
     "output_type": "stream",
     "text": [
      "<class 'str'>\n",
      "<class 'type'>\n",
      "1\n",
      "<class 'int'>\n",
      "400\n",
      "20\n"
     ]
    }
   ],
   "source": [
    "a = 10\n",
    "b = 3.14\n",
    "my_str = 'aaa'\n",
    "flag = True\n",
    "print(type(my_str))  # str类型   <class 'str'>\n",
    "\n",
    "my_type = type(my_str)\n",
    "print(type(my_type))# tyoe类型  <class 'type'>\n",
    "\n",
    "\n",
    "a = 30\n",
    "b = 20\n",
    "c = a//b\n",
    "print(c)  #1\n",
    "print(type(c))  # int\n",
    "\n",
    "d = b**2\n",
    "print(d)  #400\n",
    "\n",
    "#赋值运算符\n",
    "a = 10\n",
    "#a = a+10\n",
    "a += 10\n",
    "print(a)  #20\n",
    "\n",
    "    "
   ]
  },
  {
   "cell_type": "markdown",
   "metadata": {},
   "source": [
    "# 变量的输入和输出"
   ]
  },
  {
   "cell_type": "markdown",
   "metadata": {},
   "source": [
    "## 1.标准I/O--普通输出"
   ]
  },
  {
   "cell_type": "code",
   "execution_count": 35,
   "metadata": {
    "scrolled": true
   },
   "outputs": [
    {
     "name": "stdout",
     "output_type": "stream",
     "text": [
      "100 100 100 hello\n",
      "100\n",
      "aaa\n",
      "bbb\n",
      "ccc\n",
      "sssddd\n",
      "eee\n",
      "111#222#333#"
     ]
    }
   ],
   "source": [
    "#标准I/O：从键盘度，往屏幕写\n",
    "#文件I/O：从文件度，往文件写\n",
    "#网络I/O\n",
    "\n",
    "my_number1 = 100\n",
    "my_number2 = 100\n",
    "my_number3 = 100\n",
    "#函数中的逗号用来隔开多个参数\n",
    "print(my_number1,my_number2,my_number3,'hello')  # 100 100 100 hello\n",
    "print(100) # 100\n",
    "\n",
    "#用一个 \\n 表示换行符，\\n为不可见字符，和字符a本质是一样的\n",
    "print('aaa')\n",
    "print('bbb')\n",
    "print('ccc')\n",
    "#输出\n",
    "# aaa\n",
    "# bbb\n",
    "# ccc\n",
    "\n",
    "#print方法有个默认参数值end='\\n'\n",
    "print('sss',end='')\n",
    "print('ddd')\n",
    "print('eee')\n",
    "# 输出：\n",
    "# sssddd\n",
    "# eee\n",
    "\n",
    "print('111',end='#')\n",
    "print('222',end='#')\n",
    "print('333',end='#')\n",
    "# 输出：111#222#333#\n",
    "\n"
   ]
  },
  {
   "cell_type": "markdown",
   "metadata": {},
   "source": [
    "# 格式化输出变量：让数据按照一定的格式输出"
   ]
  },
  {
   "cell_type": "markdown",
   "metadata": {},
   "source": [
    "进行格式化输出的流程：\n",
    "\n",
    "    1.先定义输出格式\n",
    "    2.在格式中填充数据\n",
    "\n",
    "格式化字符串：他的名字是？，他的年龄是？\n",
    "\n",
    "占位符：\n",
    "\n",
    "    1.占位 \n",
    "    2.约束位置上数据的类型\n",
    "\n",
    "占位符：\n",
    "\n",
    "    1.%s s表示string\n",
    "    2.%d d表示digit 数字\n",
    "    3.%f f表示float\n",
    "    4.%% 输出百分号"
   ]
  },
  {
   "cell_type": "code",
   "execution_count": 36,
   "metadata": {},
   "outputs": [
    {
     "name": "stdout",
     "output_type": "stream",
     "text": [
      "\n",
      "他的名字是诸葛孔明，他的年龄是60，他的工资是100.010000。\n",
      "游戏胜率：87%\n",
      "他的名字是诸葛孔明，他的年龄是60，他的工资是100.01。\n",
      "他的名字是 诸葛孔明 他的年龄是 60 他的工资是 100.01\n"
     ]
    }
   ],
   "source": [
    "# 格式化字符串：他的名字是%s，他的年龄是%d\n",
    "print()\n",
    "name = '诸葛孔明'\n",
    "age = 60\n",
    "salary = 100.01\n",
    "my_format = '他的名字是%s，他的年龄是%d，他的工资是%f。'%(name,age,salary)\n",
    "print(my_format)\n",
    "#输出：他的名字是诸葛孔明，他的年龄是60，他的工资是100.010000。\n",
    "\n",
    "print('游戏胜率：%d%%'% 87)#只有一个占位符，则后面不需要写括号\n",
    "#注意要输出%，则需要写 %%\n",
    "\n",
    "\n",
    "#float默认输出6位\n",
    "#让小数点后保留两位\n",
    "my_format = '他的名字是%s，他的年龄是%d，他的工资是%.2f。'%(name,age,salary)\n",
    "print(my_format)\n",
    "#输出：他的名字是诸葛孔明，他的年龄是60，他的工资是100.01。\n",
    "\n",
    "print('他的名字是',name,'他的年龄是',age,'他的工资是',salary)\n",
    "#输出：他的名字是 诸葛孔明 他的年龄是 60 他的工资是 100.01\n"
   ]
  },
  {
   "cell_type": "markdown",
   "metadata": {},
   "source": [
    "# 标准输入函数：\n",
    "\n",
    "input函数使用\n",
    "\n",
    "    input函数主要用于从键盘获取数据\n",
    "    无论输入的数据是小数、整数、还是字符串，该函数均当做字符串类型来获取\n"
   ]
  },
  {
   "cell_type": "code",
   "execution_count": 12,
   "metadata": {},
   "outputs": [
    {
     "name": "stdout",
     "output_type": "stream",
     "text": [
      "\n",
      "请输入你的名字：2\n",
      "2\n",
      "欢迎您 2 ！\n"
     ]
    }
   ],
   "source": [
    "input()#显示一个文本框，按enter，显示后面运行内容\n",
    "#input()等待键盘输入，当敲回车时表示输入完毕\n",
    "your_name = input('请输入你的名字：')\n",
    "print(your_name)\n",
    "print('欢迎您 %s ！'% your_name)  # 欢迎您 司马光 ！\n",
    "\n",
    "#运行后，显示请输入你的名字：（文本框），输入文本后按enter，打印出输入得内容"
   ]
  },
  {
   "cell_type": "markdown",
   "metadata": {
    "collapsed": true
   },
   "source": [
    "# #2.6 变量类型的转换"
   ]
  },
  {
   "cell_type": "code",
   "execution_count": 11,
   "metadata": {},
   "outputs": [
    {
     "name": "stdout",
     "output_type": "stream",
     "text": [
      "请输入一个数字：45\n",
      "请输入另一个数字：12\n",
      "<class 'str'> <class 'str'>\n",
      "57\n",
      "45 + 12 的结果是 57\n"
     ]
    }
   ],
   "source": [
    "# input_content = input(\"请输入你的名字：\")\n",
    "# print('欢迎您 %s ！' % input_content)\n",
    "\n",
    "#使用input函数完成加法计算器程序\n",
    "num_1 = input('请输入一个数字：')\n",
    "num_2 = input('请输入另一个数字：')\n",
    "sum_add = num_1 + num_2\n",
    "#print(sum_add),这里当成字符串拼接输出\n",
    "\n",
    "#print('%d + %d 的结果是 %d' % (num_1,num_2,sum_add))\n",
    "#%d format: a number is required, not str\n",
    "\n",
    "print(type(sum_add),type(num_1)) # str\n",
    "\n",
    "\"\"\"\n",
    "由于各种原因，我们拿到的数据不是想要的类型，这时需要类型转换\n",
    "类型转换前提是这个数据能够转换成目标类型\n",
    "\n",
    "\"\"\"\n",
    "#num_1仍然是str类型\n",
    "num_1_int = int(num_1)\n",
    "num_2_int = int(num_2)\n",
    "sum_add = num_1_int + num_2_int\n",
    "print(sum_add)\n",
    "print('%d + %d 的结果是 %d' % (num_1_int,num_2_int,sum_add))\n",
    "\n",
    "\n"
   ]
  },
  {
   "cell_type": "markdown",
   "metadata": {
    "collapsed": true
   },
   "source": [
    "# 使用以下函数可以进行变量类型转换：\n",
    "\n",
    "int(val) 将变量val转换为int类型\n",
    "\n",
    "float(val) 将变量val转换为float类型\n",
    "\n",
    "str(val) 将变量转换为str类型"
   ]
  },
  {
   "cell_type": "markdown",
   "metadata": {
    "collapsed": true
   },
   "source": [
    "# 2.7 BUG 臭虫"
   ]
  },
  {
   "cell_type": "markdown",
   "metadata": {
    "collapsed": true
   },
   "source": [
    "1.bug会导致程序崩溃，终止运行\n",
    "    程序语法错误（输出函数前有空格，python中不是随意缩进的）\n",
    "    对语法的理解不到位\n",
    "    手误\n",
    "    \n",
    "\n",
    "2.bug会导致程序执行结果不是预期（不易发现）"
   ]
  },
  {
   "cell_type": "markdown",
   "metadata": {
    "collapsed": true
   },
   "source": [
    "# 有必要建一个错误文档"
   ]
  },
  {
   "cell_type": "markdown",
   "metadata": {
    "collapsed": true
   },
   "source": [
    "# 2.8分支语句"
   ]
  },
  {
   "cell_type": "markdown",
   "metadata": {},
   "source": [
    "## alt+光标，竖着选择"
   ]
  },
  {
   "cell_type": "markdown",
   "metadata": {},
   "source": [
    "# if 语句\n",
    "    \n",
    "    一个分支\n",
    "\n",
    "    if 条件一：\n",
    "      执行一行或多行特定代码\n",
    "      \n",
    "    两个分支\n",
    "      \n",
    "     if 条件一：\n",
    "         执行一行或多行代码\n",
    "     elif 条件：\n",
    "         执行一行或多行代码\n",
    "         \n",
    "       或\n",
    "       \n",
    "     if 条件一：\n",
    "        执行一行或多行代码\n",
    "     else：\n",
    "         执行一行或多行代码\n",
    "         \n",
    "     多个分支\n",
    "       \n",
    "     if 条件一：\n",
    "         执行一行或多行代码\n",
    "     elif 条件二：\n",
    "         执行一行或多行代码\n",
    "     elif 条件三：\n",
    "         执行一行或多行代码\n",
    "     else：\n",
    "         执行一行或多行代码\n"
   ]
  },
  {
   "cell_type": "markdown",
   "metadata": {},
   "source": [
    "比较运算符\n",
    "\n",
    "    ==  相等\n",
    "    ！= 不等于\n",
    "    >  < >= <="
   ]
  },
  {
   "cell_type": "code",
   "execution_count": 16,
   "metadata": {},
   "outputs": [
    {
     "name": "stdout",
     "output_type": "stream",
     "text": [
      "False\n",
      "-20\n"
     ]
    }
   ],
   "source": [
    "#如果a >b 进行加法运算，否则进行减法运算\n",
    "\n",
    "a = 10\n",
    "b = 30\n",
    "print(a > b)#逻辑运算 \n",
    "if a > b:\n",
    "    result = a + b\n",
    "else:\n",
    "    result = a - b\n",
    "    \n",
    "print(result)"
   ]
  },
  {
   "cell_type": "code",
   "execution_count": 22,
   "metadata": {},
   "outputs": [
    {
     "name": "stdout",
     "output_type": "stream",
     "text": [
      "请输入您的用户名：admin\n",
      "请输入您的密码：123456\n",
      "欢迎 admin 登录成功\n"
     ]
    }
   ],
   "source": [
    "input_username = input('请输入您的用户名：')\n",
    "correct_username = 'admin'\n",
    "input_password = input('请输入您的密码：')\n",
    "correct_password = '123456'\n",
    "  \n",
    "if input_username == correct_username:\n",
    "    if input_password == correct_password:\n",
    "        print('欢迎 %s 登录成功' % input_username)\n",
    "    else:\n",
    "        print('您的用户名或密码错误')\n",
    "else:\n",
    "    print('您的用户名或密码错误')"
   ]
  },
  {
   "cell_type": "markdown",
   "metadata": {},
   "source": [
    "# 多个条件之间的关系--逻辑运算符\n",
    "\n",
    "    and\n",
    "    or\n",
    "    not  "
   ]
  },
  {
   "cell_type": "code",
   "execution_count": 24,
   "metadata": {},
   "outputs": [
    {
     "name": "stdout",
     "output_type": "stream",
     "text": [
      "请输入您的用户名：admin\n",
      "请输入您的密码：123456\n",
      "登陆成功\n"
     ]
    }
   ],
   "source": [
    "input_username = input('请输入您的用户名：')\n",
    "input_password = input('请输入您的密码：')\n",
    "if input_username == 'admin' and input_password == '123456':\n",
    "    print('登陆成功')\n",
    "else:\n",
    "    print('登录失败')\n"
   ]
  },
  {
   "cell_type": "code",
   "execution_count": 27,
   "metadata": {},
   "outputs": [
    {
     "name": "stdout",
     "output_type": "stream",
     "text": [
      "请输入您的用户名：admin\n",
      "请输入您的密码：11\n",
      "登陆成功\n"
     ]
    }
   ],
   "source": [
    "input_username = input('请输入您的用户名：')\n",
    "input_password = input('请输入您的密码：')\n",
    "if input_username == 'admin' or input_password == '123456':\n",
    "    print('登陆成功')\n",
    "else:\n",
    "    print('登录失败')\n"
   ]
  },
  {
   "cell_type": "markdown",
   "metadata": {},
   "source": [
    "非0为真，0为假"
   ]
  },
  {
   "cell_type": "code",
   "execution_count": 33,
   "metadata": {},
   "outputs": [
    {
     "name": "stdout",
     "output_type": "stream",
     "text": [
      "2\n",
      "0\n",
      "False\n",
      "True\n",
      "1\n",
      "2\n"
     ]
    }
   ],
   "source": [
    "ret = 1 and 2\n",
    "print(ret)\n",
    "\n",
    "ret2 = 1 and 0\n",
    "print(ret2)\n",
    "\n",
    "ret3 =  not 1\n",
    "print(ret3)\n",
    "\n",
    "print(not 0)\n",
    "print(0 or 1)\n",
    "print(0 or 2)"
   ]
  },
  {
   "cell_type": "code",
   "execution_count": 47,
   "metadata": {},
   "outputs": [
    {
     "name": "stdout",
     "output_type": "stream",
     "text": [
      "False\n",
      "20\n",
      "10\n",
      "10\n",
      "10\n",
      "20\n",
      "10\n",
      "True\n",
      "True\n"
     ]
    }
   ],
   "source": [
    "a = 10\n",
    "b = 20\n",
    "print(a > b)#false\n",
    "ret = a > b and a or b\n",
    "print(ret)#20\n",
    "ret1 = a < b and a or b\n",
    "print(ret1)#10\n",
    "print(10 or 20)#10\n",
    "#注意and or 实际逻辑执行顺序\n",
    "\n",
    "print(b > a and a)#10\n",
    "print(a < b and b)#20\n",
    "print(a < b and a)#10\n",
    "\n",
    "print(not a > b)#true\n",
    "print(not(a>b))#true"
   ]
  },
  {
   "cell_type": "code",
   "execution_count": null,
   "metadata": {
    "collapsed": true
   },
   "outputs": [],
   "source": []
  }
 ],
 "metadata": {
  "kernelspec": {
   "display_name": "Python 3",
   "language": "python",
   "name": "python3"
  },
  "language_info": {
   "codemirror_mode": {
    "name": "ipython",
    "version": 3
   },
   "file_extension": ".py",
   "mimetype": "text/x-python",
   "name": "python",
   "nbconvert_exporter": "python",
   "pygments_lexer": "ipython3",
   "version": "3.6.3"
  }
 },
 "nbformat": 4,
 "nbformat_minor": 2
}
