{
 "cells": [
  {
   "cell_type": "code",
   "execution_count": 4,
   "metadata": {
    "scrolled": false
   },
   "outputs": [
    {
     "name": "stdout",
     "output_type": "stream",
     "text": [
      "为此，在大数据时\r\n",
      "代背景下，相关技术人员要加大计算机技术研究深度，以信息\r\n",
      "安全技术、信息传播技术、信息采集技术以及信息存储技术为\r\n",
      "切入点，不断提高信息处理效率与精确性，全面保护用户财产\r\n",
      "安全与人身安全......在大数据时代背景下，各行业所产生的信息体量较为庞大，相关\r\n",
      "技术人员遵循简化用户检索信息流程的基本原则，不断优化计算\r\n",
      "机信息存储技术，满足用户的保存管理与检索需求......三、基于大数据时代背景，计算机技术的核心程序\r\n",
      "\r\n",
      "（一）计算机信息采集技术\r\n",
      "计算机采集技术属于计算机处理信息的首要步骤，受到专\r\n",
      "业技术人员的重视......\n"
     ]
    }
   ],
   "source": [
    "#-*- encoding:utf-8 -*-\n",
    "from __future__ import print_function\n",
    "\n",
    "import sys\n",
    "try:\n",
    "    #reload(sys)\n",
    "    sys.setdefaultencoding('utf-8')\n",
    "except:\n",
    "    pass\n",
    "\n",
    "import codecs\n",
    "from textrank4zh import TextRank4Sentence\n",
    "\n",
    "text = codecs.open(r'C:\\EdmsData\\txt\\试析大数据时代计算机技术的应用_孙振军.txt', 'r', 'utf-8').read()\n",
    "#text = \"这间酒店位于北京东三环，里面摆放很多雕塑，文艺气息十足。答谢宴于晚上8点开始。\"\n",
    "tr4s = TextRank4Sentence()\n",
    "tr4s.analyze(text=text, lower=True, source = 'all_filters')\n",
    "\n",
    "#for st in tr4s.sentences:\n",
    "    #print(type(st), st)\n",
    "\n",
    "#print(20*'*')\n",
    "#for item in tr4s.get_key_sentences(num=3):\n",
    "    #print(item.weight, item.sentence, type(item.sentence))\n",
    "    \n",
    "#print('----------------------------')\n",
    "abstract_str = ''\n",
    "for item in tr4s.get_key_sentences(num=3):\n",
    "    item.sentence.strip()\n",
    "    #item.sentence.strip(\" \")\n",
    "    item.sentence.replace('\\n','')\n",
    "    item.sentence.replace('\\n\\n','')\n",
    "    #item.sentence.replace('\\t','')\n",
    "    #item.sentence.replace(' ','')\n",
    "    #item.sentence.replace('\\r','')\n",
    "    abstract_str = abstract_str+item.sentence+'......'\n",
    "    #print('-----------------------------------------')\n",
    "print(abstract_str)\n",
    "    "
   ]
  },
  {
   "cell_type": "code",
   "execution_count": null,
   "metadata": {
    "collapsed": true
   },
   "outputs": [],
   "source": []
  }
 ],
 "metadata": {
  "kernelspec": {
   "display_name": "Python 3",
   "language": "python",
   "name": "python3"
  },
  "language_info": {
   "codemirror_mode": {
    "name": "ipython",
    "version": 3
   },
   "file_extension": ".py",
   "mimetype": "text/x-python",
   "name": "python",
   "nbconvert_exporter": "python",
   "pygments_lexer": "ipython3",
   "version": "3.6.3"
  }
 },
 "nbformat": 4,
 "nbformat_minor": 2
}
