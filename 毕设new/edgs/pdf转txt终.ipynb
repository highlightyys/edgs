{
 "cells": [
  {
   "cell_type": "markdown",
   "metadata": {},
   "source": [
    "# pdf转txt"
   ]
  },
  {
   "cell_type": "code",
   "execution_count": 1,
   "metadata": {
    "scrolled": false
   },
   "outputs": [
    {
     "name": "stdout",
     "output_type": "stream",
     "text": [
      "['C:/TMdata/PDF3\\\\2017年广州市体育产业增加值425_76亿元_黄心豪.pdf', 'C:/TMdata/PDF3\\\\_一街一站_让深圳大气治理走向精细化_陈昊.pdf']\n",
      "C:/EdmsData/txt1/\\2017年广州市体育产业增加值425_76亿元_黄心豪.txt\n",
      "C:/EdmsData/txt1/\\_一街一站_让深圳大气治理走向精细化_陈昊.txt\n"
     ]
    }
   ],
   "source": [
    "# -*- coding: utf-8 -*-\n",
    "\"\"\"\n",
    "Created on Tue Apr 23 16:17:30 2019\n",
    "\n",
    "@author: Administrator\n",
    "\"\"\"\n",
    "#传入文件路径名，将所有pdf转为同名的txt文件保存\n",
    "\n",
    "import sys\n",
    "import importlib\n",
    "importlib.reload(sys)\n",
    "\n",
    "from pdfminer.pdfparser import PDFParser, PDFDocument\n",
    "from pdfminer.pdfinterp import PDFResourceManager, PDFPageInterpreter\n",
    "from pdfminer.converter import PDFPageAggregator\n",
    "from pdfminer.layout import LTTextBoxHorizontal, LAParams\n",
    "from pdfminer.pdfinterp import PDFTextExtractionNotAllowed\n",
    "import os\n",
    "\n",
    "class PdfToTxt(object):\n",
    "    \n",
    "    #从已知文件路径中读取pdf文件，并将其转化为同名txt文件\n",
    "\n",
    "    def readPDF(path, toPath):\n",
    "        # 以二进制形式打开pdf文件\n",
    "   \n",
    "        with open(path, \"rb\") as f:\n",
    "            # 创建一个pdf文档分析器\n",
    "            parser = PDFParser(f)\n",
    "            # 创建pdf文档\n",
    "            pdfFile = PDFDocument()\n",
    "            # 链接分析器与文档对象\n",
    "            parser.set_document(pdfFile)\n",
    "            pdfFile.set_parser(parser)\n",
    "            # 提供初始化密码\n",
    "            pdfFile.initialize()\n",
    "            # 检测文档是否提供txt转换\n",
    "        if not pdfFile.is_extractable:\n",
    "            raise PDFTextExtractionNotAllowed\n",
    "        else:\n",
    "            # 解析数据\n",
    "            # 数据管理\n",
    "            manager = PDFResourceManager()\n",
    "            # 创建一个PDF设备对象\n",
    "            laparams = LAParams()\n",
    "            device = PDFPageAggregator(manager, laparams=laparams)\n",
    "            # 解释器对象\n",
    "            interpreter = PDFPageInterpreter(manager, device)\n",
    "    \n",
    "            # 开始循环处理，每次处理一页\n",
    "            for page in pdfFile.get_pages():\n",
    "                interpreter.process_page(page)\n",
    "                layout = device.get_result()\n",
    "                for x in layout:\n",
    "                    if(isinstance(x, LTTextBoxHorizontal)):\n",
    "                        with open(toPath, 'a',encoding='utf-8') as f:\n",
    "                            str = x.get_text()\n",
    "                            # print(str)\n",
    "                            f.write(str+\"\\n\")\n",
    "\n",
    "    #遍历文件夹及其子文件夹\n",
    "    def list_all_files(rootdir):\n",
    "        _files = []\n",
    "        list = os.listdir(rootdir) #列出文件夹下所有的目录与文件\n",
    "        for i in range(0,len(list)):\n",
    "            path = os.path.join(rootdir,list[i])\n",
    "            if os.path.isdir(path):\n",
    "                _files.extend(PdfToTxt.list_all_files(path))\n",
    "            if os.path.isfile(path):\n",
    "                _files.append(path)\n",
    "        return _files\n",
    "    #将传入的文件夹及其子文件夹下的pdf文件转为txt文件，并存到固定路径下\n",
    "    def getpdf_list(pdf_path):\n",
    "        txt_path =  'C:/EdmsData/txt1/'\n",
    "        #清空txt文件中文件\n",
    "        shanchu = os.listdir(txt_path)\n",
    "        #print(shanchu)\n",
    "        for i in range(len(shanchu)):\n",
    "            os.remove(txt_path+shanchu[i])\n",
    "        #--------------------------------\n",
    "        all_list = PdfToTxt.list_all_files(pdf_path)\n",
    "        path = ''\n",
    "         \n",
    "        txt_list=[]\n",
    "        for onelist in all_list:\n",
    "            if onelist.find('pdf') != -1:\n",
    "                txt_list.append(onelist)\n",
    "                \n",
    "        print(txt_list)\n",
    "        for i in range(len(txt_list)):\n",
    "            path = txt_list[i]\n",
    "            \n",
    "            index = txt_list[i].rfind('\\\\')\n",
    "            one_list = txt_list[i][index:-4]\n",
    "            toPath = txt_path+one_list+'.txt'\n",
    "            \n",
    "            print(toPath)\n",
    "            try:\n",
    "                PdfToTxt.readPDF(path,toPath)\n",
    "                \n",
    "            except:\n",
    "                print(\"error\")\n",
    "                continue\n",
    "            \n",
    "            \n",
    "if __name__ == '__main__':\n",
    "    pdf_path = 'C:/TMdata/PDF3'\n",
    "    #将所有pdf转为同名的txt文件\n",
    "    PdfToTxt.getpdf_list(pdf_path)\n",
    "    "
   ]
  },
  {
   "cell_type": "code",
   "execution_count": null,
   "metadata": {
    "collapsed": true
   },
   "outputs": [],
   "source": []
  },
  {
   "cell_type": "code",
   "execution_count": 9,
   "metadata": {},
   "outputs": [
    {
     "name": "stderr",
     "output_type": "stream",
     "text": [
      "Building prefix dict from the default dictionary ...\n",
      "DEBUG:jieba:Building prefix dict from the default dictionary ...\n",
      "Loading model from cache C:\\Users\\ADMINI~1\\AppData\\Local\\Temp\\jieba.cache\n",
      "DEBUG:jieba:Loading model from cache C:\\Users\\ADMINI~1\\AppData\\Local\\Temp\\jieba.cache\n",
      "Loading model cost 1.155 seconds.\n",
      "DEBUG:jieba:Loading model cost 1.155 seconds.\n",
      "Prefix dict has been built succesfully.\n",
      "DEBUG:jieba:Prefix dict has been built succesfully.\n"
     ]
    },
    {
     "name": "stdout",
     "output_type": "stream",
     "text": [
      "['Sports' 'Economy' 'Politics' 'Computer' 'Economy' 'Economy' 'Sports'\n",
      " 'Art' 'Computer' 'Agriculture' 'Enviornment' 'Art' 'Computer' 'Computer'\n",
      " 'Sports' 'Sports' 'Computer' 'Computer' 'Economy' 'Agriculture'\n",
      " 'Agriculture' 'Economy' 'Agriculture' 'Agriculture' 'Economy' 'Sports'\n",
      " 'Economy' 'Computer' 'Computer' 'Computer' 'Computer' 'Politics' 'Sports'\n",
      " 'Computer' 'Agriculture' 'Agriculture' 'Agriculture' 'Computer' 'Sports'\n",
      " 'Economy' 'Sports' 'Computer' 'Agriculture' 'Art' 'Computer' 'Computer'\n",
      " 'Politics' 'Computer' 'Computer' 'Economy' 'Economy' 'Computer' 'Computer'\n",
      " 'Art' 'Politics']\n"
     ]
    }
   ],
   "source": [
    "# -*- coding: utf-8 -*-\n",
    "\"\"\"\n",
    "Created on Sat May  4 20:06:33 2019\n",
    "\n",
    "@author: Administrator\n",
    "\"\"\"\n",
    "from sklearn.externals import joblib\n",
    "from MyDataFrame import MyDataFrame\n",
    "class GetCatagory(object):\n",
    "    def getAllTextCatagory(self):\n",
    "        nbf =joblib.load('LR_model')  # 加载Logistic回归模型\n",
    "        mdf = MyDataFrame()\n",
    "        df = mdf.new_DataFrame()\n",
    "        df2 = mdf.m_cut(df)\n",
    "        rawfile=[]#空格分隔开的文本\n",
    "        for i in range(len(df2)):\n",
    "            rawfile.append(' '.join(df2['fenci'][i]))\n",
    "\n",
    "        countvec=joblib.load('countvec_LR')  #加载Logistic回归模型拟合时的原始词频特征矩阵\n",
    "        x_test_wordmtx = countvec.transform(rawfile) \n",
    "        transformer = joblib.load('transformer_LR')\n",
    "        x_test = transformer.transform(x_test_wordmtx)\n",
    "        catagory_list = nbf.predict(x_test) #对测试集进行类别预测，返回一个list\n",
    "        #print(catagory_list)\n",
    "        #print(type(catagory_list))\n",
    "        return catagory_list\n",
    "    \n",
    "    \"\"\"\n",
    "    def getOneTextCatagory(self,filename):\n",
    "        catagory_list = self.getAllTextCatagory()\n",
    "    \"\"\" \n",
    "        \n",
    "    \n",
    "if __name__ == '__main__':\n",
    "    gc = GetCatagory()\n",
    "    catagory_list = gc.getAllTextCatagory()  # list\n",
    "    print(catagory_list)"
   ]
  },
  {
   "cell_type": "code",
   "execution_count": null,
   "metadata": {
    "collapsed": true
   },
   "outputs": [],
   "source": []
  },
  {
   "cell_type": "code",
   "execution_count": null,
   "metadata": {
    "collapsed": true
   },
   "outputs": [],
   "source": []
  }
 ],
 "metadata": {
  "kernelspec": {
   "display_name": "Python 3",
   "language": "python",
   "name": "python3"
  },
  "language_info": {
   "codemirror_mode": {
    "name": "ipython",
    "version": 3
   },
   "file_extension": ".py",
   "mimetype": "text/x-python",
   "name": "python",
   "nbconvert_exporter": "python",
   "pygments_lexer": "ipython3",
   "version": "3.6.3"
  }
 },
 "nbformat": 4,
 "nbformat_minor": 2
}
